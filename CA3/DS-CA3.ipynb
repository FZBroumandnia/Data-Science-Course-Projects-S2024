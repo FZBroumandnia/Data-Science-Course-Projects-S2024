{
 "cells": [
  {
   "cell_type": "code",
   "execution_count": 1,
   "metadata": {},
   "outputs": [
    {
     "data": {
      "text/html": [
       "<style>pre { white-space: pre !important; }</style>"
      ],
      "text/plain": [
       "<IPython.core.display.HTML object>"
      ]
     },
     "metadata": {},
     "output_type": "display_data"
    }
   ],
   "source": [
    "from IPython.display import display, HTML\n",
    "display(HTML('<style>pre { white-space: pre !important; }</style>'))"
   ]
  },
  {
   "cell_type": "markdown",
   "metadata": {},
   "source": [
    "#### helper function for showing info:"
   ]
  },
  {
   "cell_type": "code",
   "execution_count": 2,
   "metadata": {},
   "outputs": [],
   "source": [
    "from pyspark.sql import DataFrame\n",
    "\n",
    "def show_df_info(df: DataFrame, num_rows: int = 5):\n",
    "    row_count = df.count()\n",
    "    print(f\"Number of rows: {row_count}\")\n",
    "    df.show(num_rows)\n"
   ]
  },
  {
   "cell_type": "markdown",
   "metadata": {},
   "source": [
    "# <center> Warm-up! <center>"
   ]
  },
  {
   "cell_type": "markdown",
   "metadata": {},
   "source": [
    "#### Step1: read the csv file"
   ]
  },
  {
   "cell_type": "code",
   "execution_count": 3,
   "metadata": {},
   "outputs": [
    {
     "name": "stderr",
     "output_type": "stream",
     "text": [
      "24/04/17 18:31:06 WARN Utils: Your hostname, marzieh-ZenBook-UX363EA-UX363EA resolves to a loopback address: 127.0.1.1; using 192.168.1.159 instead (on interface wlo1)\n",
      "24/04/17 18:31:06 WARN Utils: Set SPARK_LOCAL_IP if you need to bind to another address\n",
      "Setting default log level to \"WARN\".\n",
      "To adjust logging level use sc.setLogLevel(newLevel). For SparkR, use setLogLevel(newLevel).\n",
      "24/04/17 18:31:07 WARN NativeCodeLoader: Unable to load native-hadoop library for your platform... using builtin-java classes where applicable\n"
     ]
    }
   ],
   "source": [
    "from pyspark.sql import SparkSession\n",
    "from pyspark.sql.functions import year, month, min, max, mean, stddev\n",
    "\n",
    "spark = SparkSession.builder \\\n",
    "    .appName(\"StockAnalysis\") \\\n",
    "    .getOrCreate()\n",
    "\n",
    "df = spark.read.csv(\"stocks.csv\", header=True, inferSchema=True)\n"
   ]
  },
  {
   "cell_type": "markdown",
   "metadata": {},
   "source": [
    "#### Step2: Schema of data"
   ]
  },
  {
   "cell_type": "code",
   "execution_count": 4,
   "metadata": {},
   "outputs": [
    {
     "name": "stdout",
     "output_type": "stream",
     "text": [
      "root\n",
      " |-- Date: date (nullable = true)\n",
      " |-- Open: double (nullable = true)\n",
      " |-- High: double (nullable = true)\n",
      " |-- Low: double (nullable = true)\n",
      " |-- Close: double (nullable = true)\n",
      " |-- Volume: integer (nullable = true)\n",
      " |-- Adj Close: double (nullable = true)\n",
      "\n"
     ]
    }
   ],
   "source": [
    "df.printSchema()"
   ]
  },
  {
   "cell_type": "markdown",
   "metadata": {},
   "source": [
    "#### Step 3: Showing opening, closing and volume of Records with closing price less than 500"
   ]
  },
  {
   "cell_type": "code",
   "execution_count": 5,
   "metadata": {},
   "outputs": [
    {
     "name": "stdout",
     "output_type": "stream",
     "text": [
      "Number of rows: 1359\n",
      "+----------+------------------+---------+\n",
      "|      Open|             Close|   Volume|\n",
      "+----------+------------------+---------+\n",
      "|213.429998|        214.009998|123432400|\n",
      "|214.599998|        214.379993|150476200|\n",
      "|214.379993|        210.969995|138040000|\n",
      "|    211.75|            210.58|119282800|\n",
      "|210.299994|211.98000499999998|111902700|\n",
      "+----------+------------------+---------+\n",
      "only showing top 5 rows\n",
      "\n"
     ]
    }
   ],
   "source": [
    "df_less_than_500 = df.filter(df[\"Close\"] < 500).select(\"Open\", \"Close\", \"Volume\")\n",
    "show_df_info(df_less_than_500)"
   ]
  },
  {
   "cell_type": "markdown",
   "metadata": {},
   "source": [
    "#### Step 4: Records with opening price more than 200 and closing price less than 200"
   ]
  },
  {
   "cell_type": "code",
   "execution_count": 6,
   "metadata": {},
   "outputs": [
    {
     "name": "stdout",
     "output_type": "stream",
     "text": [
      "Number of rows: 3\n",
      "+----------+------------------+----------+----------+----------+---------+------------------+\n",
      "|      Date|              Open|      High|       Low|     Close|   Volume|         Adj Close|\n",
      "+----------+------------------+----------+----------+----------+---------+------------------+\n",
      "|2010-01-22|206.78000600000001|207.499996|    197.16|    197.75|220441900|         25.620401|\n",
      "|2010-01-28|        204.930004|205.500004|198.699995|199.289995|293375600|25.819922000000002|\n",
      "|2010-01-29|        201.079996|202.199995|190.250002|192.060003|311488100|         24.883208|\n",
      "+----------+------------------+----------+----------+----------+---------+------------------+\n",
      "\n"
     ]
    }
   ],
   "source": [
    "df_open_more_200_close_less_200 = df.filter((df[\"Open\"] > 200) & (df[\"Close\"] < 200))\n",
    "show_df_info(df_open_more_200_close_less_200)"
   ]
  },
  {
   "cell_type": "markdown",
   "metadata": {},
   "source": [
    "#### Step 5: Extract year from date and save it in a new column"
   ]
  },
  {
   "cell_type": "code",
   "execution_count": 7,
   "metadata": {},
   "outputs": [
    {
     "name": "stdout",
     "output_type": "stream",
     "text": [
      "Number of rows: 1762\n",
      "+----------+----------+----------+------------------+------------------+---------+------------------+----+\n",
      "|      Date|      Open|      High|               Low|             Close|   Volume|         Adj Close|Year|\n",
      "+----------+----------+----------+------------------+------------------+---------+------------------+----+\n",
      "|2010-01-04|213.429998|214.499996|212.38000099999996|        214.009998|123432400|         27.727039|2010|\n",
      "|2010-01-05|214.599998|215.589994|        213.249994|        214.379993|150476200|27.774976000000002|2010|\n",
      "|2010-01-06|214.379993|    215.23|        210.750004|        210.969995|138040000|27.333178000000004|2010|\n",
      "|2010-01-07|    211.75|212.000006|        209.050005|            210.58|119282800|          27.28265|2010|\n",
      "|2010-01-08|210.299994|212.000006|209.06000500000002|211.98000499999998|111902700|         27.464034|2010|\n",
      "+----------+----------+----------+------------------+------------------+---------+------------------+----+\n",
      "only showing top 5 rows\n",
      "\n"
     ]
    }
   ],
   "source": [
    "df_with_year = df.withColumn(\"Year\", year(\"Date\"))\n",
    "show_df_info(df_with_year)"
   ]
  },
  {
   "cell_type": "markdown",
   "metadata": {},
   "source": [
    "#### Step 6: Minimum volumes traded for each year"
   ]
  },
  {
   "cell_type": "code",
   "execution_count": 8,
   "metadata": {},
   "outputs": [
    {
     "name": "stdout",
     "output_type": "stream",
     "text": [
      "Number of rows: 7\n",
      "+----+---------+\n",
      "|Year|minVolume|\n",
      "+----+---------+\n",
      "|2015| 13046400|\n",
      "|2013| 41888700|\n",
      "|2014| 14479600|\n",
      "|2012| 43938300|\n",
      "|2016| 11475900|\n",
      "|2010| 39373600|\n",
      "|2011| 44915500|\n",
      "+----+---------+\n",
      "\n"
     ]
    }
   ],
   "source": [
    "min_volume_per_year = df_with_year.groupBy(\"Year\").agg(min(\"Volume\").alias(\"minVolume\"))\n",
    "show_df_info(min_volume_per_year, 7)"
   ]
  },
  {
   "cell_type": "markdown",
   "metadata": {},
   "source": [
    "#### Step 7: Highest low price for each year and month"
   ]
  },
  {
   "cell_type": "code",
   "execution_count": 9,
   "metadata": {},
   "outputs": [
    {
     "name": "stdout",
     "output_type": "stream",
     "text": [
      "Number of rows: 84\n",
      "+----+-----+----------+\n",
      "|Year|Month|    maxLow|\n",
      "+----+-----+----------+\n",
      "|2012|   10|665.550026|\n",
      "|2010|    7|260.300003|\n",
      "|2010|   12|325.099991|\n",
      "|2015|    2|131.169998|\n",
      "|2014|    4|589.799988|\n",
      "+----+-----+----------+\n",
      "only showing top 5 rows\n",
      "\n"
     ]
    }
   ],
   "source": [
    "max_low_price_per_year_month = df_with_year.groupBy(\"Year\", month(\"Date\").alias(\"Month\")) \\\n",
    "    .agg(max(\"Low\").alias(\"maxLow\"))\n",
    "show_df_info(max_low_price_per_year_month)"
   ]
  },
  {
   "cell_type": "markdown",
   "metadata": {},
   "source": [
    "#### Step 8: Mean and standard deviation of high price"
   ]
  },
  {
   "cell_type": "code",
   "execution_count": 10,
   "metadata": {},
   "outputs": [
    {
     "name": "stdout",
     "output_type": "stream",
     "text": [
      "Mean High Price: 315.91\n",
      "Standard Deviation of High Price: 186.90\n"
     ]
    }
   ],
   "source": [
    "mean_high_price = df.agg(mean(\"High\").alias(\"MeanHighPrice\")).collect()[0][\"MeanHighPrice\"]\n",
    "stddev_high_price = df.agg(stddev(\"High\").alias(\"StddevHighPrice\")).collect()[0][\"StddevHighPrice\"]\n",
    "print(f\"Mean High Price: {mean_high_price:.2f}\")\n",
    "print(f\"Standard Deviation of High Price: {stddev_high_price:.2f}\")\n",
    "\n",
    "# Stop SparkSession\n",
    "spark.stop()\n"
   ]
  },
  {
   "cell_type": "markdown",
   "metadata": {},
   "source": [
    "# <center>Main Task</center>"
   ]
  },
  {
   "cell_type": "code",
   "execution_count": 11,
   "metadata": {},
   "outputs": [],
   "source": [
    "from pyspark.sql import SparkSession\n",
    "from pyspark.sql.functions import min, max, mean, stddev\n",
    "\n",
    "spark = SparkSession.builder \\\n",
    "    .appName(\"SpotifyAnalysis\") \\\n",
    "    .getOrCreate()\n",
    "df = spark.read.load(\"spotify.parquet\")"
   ]
  },
  {
   "cell_type": "code",
   "execution_count": 12,
   "metadata": {},
   "outputs": [
    {
     "name": "stdout",
     "output_type": "stream",
     "text": [
      "root\n",
      " |-- id: string (nullable = true)\n",
      " |-- name: string (nullable = true)\n",
      " |-- album: string (nullable = true)\n",
      " |-- album_id: string (nullable = true)\n",
      " |-- artists: string (nullable = true)\n",
      " |-- artist_ids: string (nullable = true)\n",
      " |-- track_number: long (nullable = true)\n",
      " |-- disc_number: long (nullable = true)\n",
      " |-- explicit: boolean (nullable = true)\n",
      " |-- danceability: double (nullable = true)\n",
      " |-- energy: double (nullable = true)\n",
      " |-- key: long (nullable = true)\n",
      " |-- loudness: double (nullable = true)\n",
      " |-- mode: long (nullable = true)\n",
      " |-- speechiness: double (nullable = true)\n",
      " |-- acousticness: double (nullable = true)\n",
      " |-- instrumentalness: double (nullable = true)\n",
      " |-- liveness: double (nullable = true)\n",
      " |-- valence: double (nullable = true)\n",
      " |-- tempo: double (nullable = true)\n",
      " |-- duration_ms: long (nullable = true)\n",
      " |-- time_signature: double (nullable = true)\n",
      " |-- year: long (nullable = true)\n",
      " |-- release_date: string (nullable = true)\n",
      "\n"
     ]
    }
   ],
   "source": [
    "df.printSchema()"
   ]
  },
  {
   "cell_type": "code",
   "execution_count": 115,
   "metadata": {},
   "outputs": [
    {
     "name": "stderr",
     "output_type": "stream",
     "text": [
      "[Stage 349:=================================================>       (7 + 1) / 8]\r"
     ]
    },
    {
     "name": "stdout",
     "output_type": "stream",
     "text": [
      "Number of rows: 1204012\n",
      "+--------------------+--------------------+--------------------+--------------------+--------------------+--------------------+------------+-----------+--------+------------------+------+---+-------------------+----+-----------+-----------------+--------------------+--------+------------------+------------------+-----------+--------------+----+------------+------------------+\n",
      "|                  id|                name|               album|            album_id|             artists|          artist_ids|track_number|disc_number|explicit|      danceability|energy|key|           loudness|mode|speechiness|     acousticness|    instrumentalness|liveness|           valence|             tempo|duration_ms|time_signature|year|release_date|        duration_m|\n",
      "+--------------------+--------------------+--------------------+--------------------+--------------------+--------------------+------------+-----------+--------+------------------+------+---+-------------------+----+-----------+-----------------+--------------------+--------+------------------+------------------+-----------+--------------+----+------------+------------------+\n",
      "|7lmeHLHBe4nmXzuXc...|             Testify|The Battle Of Los...|2eia0myWFgoHuttJy...|['Rage Against Th...|['2d0hyoQ5ynDBnkv...|           1|          1|   false|              0.47| 0.978|  7|             -5.399|   1|     0.0727|           0.0261|             1.09E-5|   0.356|             0.503|           117.906|     210133|           4.0|1999|  1999-11-02|3.5022166666666665|\n",
      "|1wsRitfRRtWyEapl0...|     Guerrilla Radio|The Battle Of Los...|2eia0myWFgoHuttJy...|['Rage Against Th...|['2d0hyoQ5ynDBnkv...|           2|          1|    true|             0.599| 0.957| 11| -5.763999999999999|   1|      0.188|           0.0129|             7.06E-5|   0.155|             0.489|            103.68|     206200|           4.0|1999|  1999-11-02|3.4366666666666665|\n",
      "|1hR0fIFK2qRG3f3RF...|    Calm Like a Bomb|The Battle Of Los...|2eia0myWFgoHuttJy...|['Rage Against Th...|['2d0hyoQ5ynDBnkv...|           3|          1|   false|             0.315|  0.97|  7|             -5.424|   1|      0.483|           0.0234|             2.03E-6|   0.122|              0.37|           149.749|     298893|           4.0|1999|  1999-11-02|           4.98155|\n",
      "|2lbASgTSoDO7MTuLA...|           Mic Check|The Battle Of Los...|2eia0myWFgoHuttJy...|['Rage Against Th...|['2d0hyoQ5ynDBnkv...|           4|          1|    true|              0.44| 0.967| 11|              -5.83|   0|      0.237|            0.163|             3.64E-6|   0.121|             0.574|            96.752|     213640|           4.0|1999|  1999-11-02|3.5606666666666666|\n",
      "|1MQTmpYOZ6fcMQc56...|Sleep Now In the ...|The Battle Of Los...|2eia0myWFgoHuttJy...|['Rage Against Th...|['2d0hyoQ5ynDBnkv...|           5|          1|   false|             0.426| 0.929|  2|             -6.729|   1|     0.0701|          0.00162|               0.105|  0.0789|             0.539|           127.059|     205600|           4.0|1999|  1999-11-02|3.4266666666666667|\n",
      "|2LXPNLSMAauNJfnC5...|Born of a Broken Man|The Battle Of Los...|2eia0myWFgoHuttJy...|['Rage Against Th...|['2d0hyoQ5ynDBnkv...|           6|          1|   false|             0.298| 0.848|  2|             -5.947|   1|     0.0727|           0.0538|  0.0015199999999999|   0.201|0.1939999999999999|           148.282|     280960|           4.0|1999|  1999-11-02| 4.682666666666667|\n",
      "|3moeHk8eIajvUEzVo...|      Born As Ghosts|The Battle Of Los...|2eia0myWFgoHuttJy...|['Rage Against Th...|['2d0hyoQ5ynDBnkv...|           7|          1|   false|             0.417| 0.976|  9|             -6.032|   1|      0.175|4.269999999999E-4|             1.34E-4|   0.107|             0.483|            90.395|     202040|           4.0|1999|  1999-11-02|3.3673333333333333|\n",
      "|4llunZfVXv3NvUzXV...|               Maria|The Battle Of Los...|2eia0myWFgoHuttJy...|['Rage Against Th...|['2d0hyoQ5ynDBnkv...|           8|          1|   false|0.2769999999999999| 0.873| 11|-6.5710000000000015|   0|     0.0883|          0.00694|5.400000000000001E-5|   0.188|             0.618|172.84799999999996|     228093|           4.0|1999|  1999-11-02|           3.80155|\n",
      "|21Mq0NzFoVRvOmLTO...|Voice of the Voic...|The Battle Of Los...|2eia0myWFgoHuttJy...|['Rage Against Th...|['2d0hyoQ5ynDBnkv...|           9|          1|   false|             0.441| 0.882|  7| -7.362999999999999|   1|      0.044|           0.0195|             0.00684|    0.15|             0.418| 83.37100000000002|     151573|           4.0|1999|  1999-11-02|2.5262166666666666|\n",
      "|6s2FgJbnnMwFTpWJZ...|New Millennium Homes|The Battle Of Los...|2eia0myWFgoHuttJy...|['Rage Against Th...|['2d0hyoQ5ynDBnkv...|          10|          1|   false|0.4479999999999999| 0.861|  9|              -6.12|   1|     0.0676|          0.00306|                 0.0|  0.0987|0.7609999999999999|            92.777|     224933|           4.0|1999|  1999-11-02| 3.748883333333333|\n",
      "+--------------------+--------------------+--------------------+--------------------+--------------------+--------------------+------------+-----------+--------+------------------+------+---+-------------------+----+-----------+-----------------+--------------------+--------+------------------+------------------+-----------+--------------+----+------------+------------------+\n",
      "only showing top 10 rows\n",
      "\n"
     ]
    },
    {
     "name": "stderr",
     "output_type": "stream",
     "text": [
      "                                                                                \r"
     ]
    }
   ],
   "source": [
    "show_df_info(df,10)"
   ]
  },
  {
   "cell_type": "markdown",
   "metadata": {},
   "source": [
    "#### Change release_date type from string to Date\n",
    "\n"
   ]
  },
  {
   "cell_type": "markdown",
   "metadata": {},
   "source": [
    "Since some release dates only contain year or year-month, we replace the missing days and months with 1."
   ]
  },
  {
   "cell_type": "code",
   "execution_count": 14,
   "metadata": {},
   "outputs": [],
   "source": [
    "from pyspark.sql.functions import col, when, substring, concat, lit, to_date\n",
    "from pyspark.sql.types import DateType\n",
    "\n",
    "\n",
    "df = df.withColumn(\"release_date\",\n",
    "                   when(col(\"release_date\").rlike('\\d{4}-\\d{2}-\\d{2}'), \n",
    "                        to_date(col(\"release_date\"), 'yyyy-MM-dd'))\n",
    "                   .when(col(\"release_date\").rlike('\\d{4}-\\d{2}'), \n",
    "                        to_date(concat(col(\"release_date\"), lit(\"-01\")), 'yyyy-MM-dd'))\n",
    "                   .otherwise(to_date(concat(col(\"release_date\"), lit(\"-01-01\")), 'yyyy-MM-dd')))"
   ]
  },
  {
   "cell_type": "markdown",
   "metadata": {},
   "source": [
    "#### Check for duplicates"
   ]
  },
  {
   "cell_type": "code",
   "execution_count": 15,
   "metadata": {},
   "outputs": [
    {
     "name": "stderr",
     "output_type": "stream",
     "text": [
      "24/04/17 18:31:16 WARN RowBasedKeyValueBatch: Calling spill() on RowBasedKeyValueBatch. Will not spill but return 0.\n",
      "24/04/17 18:31:22 WARN RowBasedKeyValueBatch: Calling spill() on RowBasedKeyValueBatch. Will not spill but return 0.\n",
      "24/04/17 18:31:22 WARN RowBasedKeyValueBatch: Calling spill() on RowBasedKeyValueBatch. Will not spill but return 0.\n",
      "24/04/17 18:31:22 WARN RowBasedKeyValueBatch: Calling spill() on RowBasedKeyValueBatch. Will not spill but return 0.\n",
      "24/04/17 18:31:22 WARN RowBasedKeyValueBatch: Calling spill() on RowBasedKeyValueBatch. Will not spill but return 0.\n",
      "24/04/17 18:31:22 WARN RowBasedKeyValueBatch: Calling spill() on RowBasedKeyValueBatch. Will not spill but return 0.\n",
      "24/04/17 18:31:22 WARN RowBasedKeyValueBatch: Calling spill() on RowBasedKeyValueBatch. Will not spill but return 0.\n",
      "24/04/17 18:31:22 WARN RowBasedKeyValueBatch: Calling spill() on RowBasedKeyValueBatch. Will not spill but return 0.\n",
      "24/04/17 18:31:22 WARN RowBasedKeyValueBatch: Calling spill() on RowBasedKeyValueBatch. Will not spill but return 0.\n",
      "24/04/17 18:31:22 WARN RowBasedKeyValueBatch: Calling spill() on RowBasedKeyValueBatch. Will not spill but return 0.\n",
      "24/04/17 18:31:22 WARN RowBasedKeyValueBatch: Calling spill() on RowBasedKeyValueBatch. Will not spill but return 0.\n",
      "24/04/17 18:31:22 WARN RowBasedKeyValueBatch: Calling spill() on RowBasedKeyValueBatch. Will not spill but return 0.\n",
      "24/04/17 18:31:22 WARN RowBasedKeyValueBatch: Calling spill() on RowBasedKeyValueBatch. Will not spill but return 0.\n",
      "24/04/17 18:31:22 WARN RowBasedKeyValueBatch: Calling spill() on RowBasedKeyValueBatch. Will not spill but return 0.\n",
      "24/04/17 18:31:22 WARN RowBasedKeyValueBatch: Calling spill() on RowBasedKeyValueBatch. Will not spill but return 0.\n",
      "24/04/17 18:31:23 WARN RowBasedKeyValueBatch: Calling spill() on RowBasedKeyValueBatch. Will not spill but return 0.\n",
      "24/04/17 18:31:23 WARN RowBasedKeyValueBatch: Calling spill() on RowBasedKeyValueBatch. Will not spill but return 0.\n"
     ]
    },
    {
     "name": "stdout",
     "output_type": "stream",
     "text": [
      "The DataFrame does not have any duplicated rows.\n"
     ]
    },
    {
     "name": "stderr",
     "output_type": "stream",
     "text": [
      "                                                                                \r"
     ]
    }
   ],
   "source": [
    "original_rows = df.count()\n",
    "no_duplicates_df = df.dropDuplicates()\n",
    "if no_duplicates_df.count() < original_rows:\n",
    "    print(\"The DataFrame has duplicated rows.\")\n",
    "else:\n",
    "    print(\"The DataFrame does not have any duplicated rows.\")"
   ]
  },
  {
   "cell_type": "markdown",
   "metadata": {},
   "source": [
    "#### Check for missing values"
   ]
  },
  {
   "cell_type": "code",
   "execution_count": 16,
   "metadata": {},
   "outputs": [
    {
     "name": "stdout",
     "output_type": "stream",
     "text": [
      "number of missing values in each column: \n"
     ]
    },
    {
     "name": "stderr",
     "output_type": "stream",
     "text": [
      "[Stage 15:==================================================>       (7 + 1) / 8]\r"
     ]
    },
    {
     "name": "stdout",
     "output_type": "stream",
     "text": [
      "+-------+-------+-------+--------+-------+----------+------------+-----------+--------+------------+-------+-------+--------+-------+-----------+------------+----------------+--------+-------+-------+-----------+--------------+-------+------------+\n",
      "|     id|   name|  album|album_id|artists|artist_ids|track_number|disc_number|explicit|danceability| energy|    key|loudness|   mode|speechiness|acousticness|instrumentalness|liveness|valence|  tempo|duration_ms|time_signature|   year|release_date|\n",
      "+-------+-------+-------+--------+-------+----------+------------+-----------+--------+------------+-------+-------+--------+-------+-----------+------------+----------------+--------+-------+-------+-----------+--------------+-------+------------+\n",
      "|1204025|1204022|1204014| 1204025|1204025|   1204025|     1204025|    1204025| 1204025|     1204025|1204025|1204025| 1204025|1204025|    1204025|     1204025|         1204025| 1204025|1204025|1204025|    1204025|       1204025|1204025|     1204025|\n",
      "+-------+-------+-------+--------+-------+----------+------------+-----------+--------+------------+-------+-------+--------+-------+-----------+------------+----------------+--------+-------+-------+-----------+--------------+-------+------------+\n",
      "\n"
     ]
    },
    {
     "name": "stderr",
     "output_type": "stream",
     "text": [
      "                                                                                \r"
     ]
    }
   ],
   "source": [
    "from pyspark.sql import Column as Col\n",
    "\n",
    "from pyspark.sql.functions import col, count\n",
    "\n",
    "non_missing_values = df.agg(*[count(col(c)).alias(c) for c in df.columns])\n",
    "print(\"number of missing values in each column: \")\n",
    "non_missing_values.show()\n"
   ]
  },
  {
   "cell_type": "markdown",
   "metadata": {},
   "source": [
    "there are a a few null values in columns `name` and `album`. But since there are not that many of them, we drop the whole row."
   ]
  },
  {
   "cell_type": "code",
   "execution_count": 17,
   "metadata": {},
   "outputs": [],
   "source": [
    "df = df.dropna(how='any')"
   ]
  },
  {
   "cell_type": "markdown",
   "metadata": {},
   "source": [
    "#### Number of Tracks, Albums, Artists:"
   ]
  },
  {
   "cell_type": "code",
   "execution_count": 18,
   "metadata": {},
   "outputs": [
    {
     "name": "stderr",
     "output_type": "stream",
     "text": [
      "24/04/17 18:31:27 WARN GarbageCollectionMetrics: To enable non-built-in garbage collector(s) List(G1 Concurrent GC), users should configure it(them) to spark.eventLog.gcMetrics.youngGenerationGarbageCollectors or spark.eventLog.gcMetrics.oldGenerationGarbageCollectors\n",
      "                                                                                \r"
     ]
    },
    {
     "name": "stdout",
     "output_type": "stream",
     "text": [
      "Number of tracks: 1204012\n"
     ]
    },
    {
     "name": "stderr",
     "output_type": "stream",
     "text": [
      "                                                                                \r"
     ]
    },
    {
     "name": "stdout",
     "output_type": "stream",
     "text": [
      "Number of unique albums: 118381\n"
     ]
    },
    {
     "name": "stderr",
     "output_type": "stream",
     "text": [
      "[Stage 27:==================================================>       (7 + 1) / 8]\r"
     ]
    },
    {
     "name": "stdout",
     "output_type": "stream",
     "text": [
      "Number of unique artists: 166420\n"
     ]
    },
    {
     "name": "stderr",
     "output_type": "stream",
     "text": [
      "                                                                                \r"
     ]
    }
   ],
   "source": [
    "total_tracks = df.count()\n",
    "print(\"Number of tracks:\", total_tracks)\n",
    "unique_albums = df.select(col(\"album_id\")).distinct().count()\n",
    "print(\"Number of unique albums:\", unique_albums)\n",
    "unique_artists = df.select(col(\"artist_ids\")).distinct().count()\n",
    "print(\"Number of unique artists:\", unique_artists)"
   ]
  },
  {
   "cell_type": "markdown",
   "metadata": {},
   "source": [
    "#### Average Danceability:"
   ]
  },
  {
   "cell_type": "code",
   "execution_count": 19,
   "metadata": {},
   "outputs": [
    {
     "name": "stderr",
     "output_type": "stream",
     "text": [
      "[Stage 33:==================================================>       (7 + 1) / 8]\r"
     ]
    },
    {
     "name": "stdout",
     "output_type": "stream",
     "text": [
      "The average danceability is 0.4930547466719647\n"
     ]
    },
    {
     "name": "stderr",
     "output_type": "stream",
     "text": [
      "                                                                                \r"
     ]
    }
   ],
   "source": [
    "from pyspark.sql import functions as F\n",
    "\n",
    "avg_danceability = df.select(F.avg(\"danceability\")).collect()[0][0]\n",
    "print(f\"The average danceability is {avg_danceability}\")"
   ]
  },
  {
   "cell_type": "markdown",
   "metadata": {},
   "source": [
    "#### Average Duration:"
   ]
  },
  {
   "cell_type": "code",
   "execution_count": 20,
   "metadata": {},
   "outputs": [
    {
     "name": "stderr",
     "output_type": "stream",
     "text": [
      "[Stage 36:==================================================>       (7 + 1) / 8]\r"
     ]
    },
    {
     "name": "stdout",
     "output_type": "stream",
     "text": [
      "Average duration: 4.15 minutes\n"
     ]
    },
    {
     "name": "stderr",
     "output_type": "stream",
     "text": [
      "                                                                                \r"
     ]
    }
   ],
   "source": [
    "from pyspark.sql.functions import avg\n",
    "\n",
    "average_duration = df.select(avg(\"duration_ms\")).collect()[0][0]/1000/60\n",
    "print(\"Average duration:\", round(average_duration, 2), \"minutes\")"
   ]
  },
  {
   "cell_type": "markdown",
   "metadata": {},
   "source": [
    "#### Number of Explicit Songs:"
   ]
  },
  {
   "cell_type": "code",
   "execution_count": 21,
   "metadata": {},
   "outputs": [
    {
     "name": "stderr",
     "output_type": "stream",
     "text": [
      "[Stage 42:==================================================>       (7 + 1) / 8]\r"
     ]
    },
    {
     "name": "stdout",
     "output_type": "stream",
     "text": [
      "The number of explicit songs is 82645\n",
      "The percentage of explicit songs is 6.8641342445091915\n"
     ]
    },
    {
     "name": "stderr",
     "output_type": "stream",
     "text": [
      "                                                                                \r"
     ]
    }
   ],
   "source": [
    "num_explicit_songs = df.filter(df[\"explicit\"] == True).count()\n",
    "num_songs = df.count()\n",
    "print(f\"The number of explicit songs is {num_explicit_songs}\")\n",
    "print(f\"The percentage of explicit songs is {num_explicit_songs/num_songs*100}\")"
   ]
  },
  {
   "cell_type": "markdown",
   "metadata": {},
   "source": [
    "#### Top 10 Artists by Track Count:"
   ]
  },
  {
   "cell_type": "code",
   "execution_count": 22,
   "metadata": {},
   "outputs": [
    {
     "name": "stderr",
     "output_type": "stream",
     "text": [
      "                                                                                \r"
     ]
    },
    {
     "name": "stdout",
     "output_type": "stream",
     "text": [
      "Number of rows: 10\n"
     ]
    },
    {
     "name": "stderr",
     "output_type": "stream",
     "text": [
      "[Stage 49:==================================================>       (7 + 1) / 8]\r"
     ]
    },
    {
     "name": "stdout",
     "output_type": "stream",
     "text": [
      "+--------------------+-----------+\n",
      "|             artists|track_count|\n",
      "+--------------------+-----------+\n",
      "| ['Various Artists']|       1753|\n",
      "|['Vitamin String ...|       1577|\n",
      "| ['Aretha Franklin']|       1209|\n",
      "|['The City of Pra...|       1042|\n",
      "|[\"Dan Gibson's So...|        997|\n",
      "|       ['Bob Dylan']|        913|\n",
      "|        ['The Fall']|        812|\n",
      "|[\"Pickin' On Seri...|        774|\n",
      "|    ['Dolly Parton']|        747|\n",
      "|['Guided By Voices']|        739|\n",
      "+--------------------+-----------+\n",
      "\n"
     ]
    },
    {
     "name": "stderr",
     "output_type": "stream",
     "text": [
      "                                                                                \r"
     ]
    }
   ],
   "source": [
    "artist_track_count = df.groupBy(\"artists\").agg(F.count(\"*\").alias(\"track_count\"))\n",
    "top_10_artists = artist_track_count.orderBy(F.desc(\"track_count\")).limit(10)\n",
    "show_df_info(top_10_artists, 10)"
   ]
  },
  {
   "cell_type": "markdown",
   "metadata": {},
   "source": [
    "#### Top 10 Years by Track Count:"
   ]
  },
  {
   "cell_type": "code",
   "execution_count": 23,
   "metadata": {},
   "outputs": [
    {
     "name": "stderr",
     "output_type": "stream",
     "text": [
      "                                                                                \r"
     ]
    },
    {
     "name": "stdout",
     "output_type": "stream",
     "text": [
      "Number of rows: 10\n"
     ]
    },
    {
     "name": "stderr",
     "output_type": "stream",
     "text": [
      "[Stage 55:==================================================>       (7 + 1) / 8]\r"
     ]
    },
    {
     "name": "stdout",
     "output_type": "stream",
     "text": [
      "+----+-------------+\n",
      "|year|release_count|\n",
      "+----+-------------+\n",
      "|2020|        69715|\n",
      "|2019|        67276|\n",
      "|2006|        56945|\n",
      "|2007|        56287|\n",
      "|2018|        56167|\n",
      "|2017|        51308|\n",
      "|2008|        50475|\n",
      "|2005|        49977|\n",
      "|2013|        49048|\n",
      "|2016|        47427|\n",
      "+----+-------------+\n",
      "\n"
     ]
    },
    {
     "name": "stderr",
     "output_type": "stream",
     "text": [
      "                                                                                \r"
     ]
    }
   ],
   "source": [
    "yearly_release_count = df.groupBy(\"year\").agg(F.count(\"*\").alias(\"release_count\"))\n",
    "top_10_years = yearly_release_count.orderBy(F.desc(\"release_count\")).limit(10)\n",
    "show_df_info(top_10_years, 10)"
   ]
  },
  {
   "cell_type": "markdown",
   "metadata": {},
   "source": [
    "#### Percentage of Acoustic Tracks:"
   ]
  },
  {
   "cell_type": "code",
   "execution_count": 24,
   "metadata": {},
   "outputs": [
    {
     "name": "stderr",
     "output_type": "stream",
     "text": [
      "[Stage 61:==================================================>       (7 + 1) / 8]\r"
     ]
    },
    {
     "name": "stdout",
     "output_type": "stream",
     "text": [
      "The percentage of acoustic tracks is 35.96932588711741%\n"
     ]
    },
    {
     "name": "stderr",
     "output_type": "stream",
     "text": [
      "                                                                                \r"
     ]
    }
   ],
   "source": [
    "acoustic_tracks = df.filter(df[\"acousticness\"] >= 0.7).count()\n",
    "total_tracks = df.count()\n",
    "percentage_acoustic = (acoustic_tracks / total_tracks) * 100\n",
    "print(f\"The percentage of acoustic tracks is {percentage_acoustic}%\")"
   ]
  },
  {
   "cell_type": "markdown",
   "metadata": {},
   "source": [
    "#### Longest Song Duration:"
   ]
  },
  {
   "cell_type": "code",
   "execution_count": 25,
   "metadata": {},
   "outputs": [
    {
     "name": "stderr",
     "output_type": "stream",
     "text": [
      "[Stage 64:==================================================>       (7 + 1) / 8]\r"
     ]
    },
    {
     "name": "stdout",
     "output_type": "stream",
     "text": [
      "The longest song duration is 101 minutes\n"
     ]
    },
    {
     "name": "stderr",
     "output_type": "stream",
     "text": [
      "                                                                                \r"
     ]
    }
   ],
   "source": [
    "longest_duration = df.select(F.max(\"duration_ms\")).collect()[0][0]\n",
    "longest_song_duration = int(longest_duration / 1000 / 60)\n",
    "print(f\"The longest song duration is {longest_song_duration} minutes\")"
   ]
  },
  {
   "cell_type": "markdown",
   "metadata": {},
   "source": [
    "#### Average danceability, energy, and valence of tracks per album:"
   ]
  },
  {
   "cell_type": "code",
   "execution_count": 26,
   "metadata": {},
   "outputs": [
    {
     "name": "stderr",
     "output_type": "stream",
     "text": [
      "                                                                                \r"
     ]
    },
    {
     "name": "stdout",
     "output_type": "stream",
     "text": [
      "Number of rows: 106161\n"
     ]
    },
    {
     "name": "stderr",
     "output_type": "stream",
     "text": [
      "[Stage 73:==================================================>       (7 + 1) / 8]\r"
     ]
    },
    {
     "name": "stdout",
     "output_type": "stream",
     "text": [
      "+--------------------+-------------------+-------------------+------------------+\n",
      "|               album|       avg(valence)|  avg(danceability)|       avg(energy)|\n",
      "+--------------------+-------------------+-------------------+------------------+\n",
      "|        Seafieldroad|0.19806249999999997|           0.425875|0.3587499999999999|\n",
      "|  Hunter Hayes: Live|             0.5506|             0.3468|            0.7618|\n",
      "|     U Hate 2 See It|0.36233333333333334|             0.6945|0.7731666666666667|\n",
      "|The Chocolate Whe...|             0.4058| 0.6224999999999999|            0.9437|\n",
      "|            Duotones| 0.5317000000000001|             0.5876|            0.4585|\n",
      "|            The City|0.47279999999999994|             0.6285|0.7254545454545455|\n",
      "|                Silk| 0.3791205882352941| 0.6497058823529411|0.5581264705882354|\n",
      "|   Piano Starts Here| 0.5945384615384616|0.45607692307692305|0.3477692307692308|\n",
      "|Back On The Bus, ...|              0.351|0.34612499999999996|          0.463375|\n",
      "|Thotiana (feat. C...|             0.6685|             0.9115|             0.718|\n",
      "+--------------------+-------------------+-------------------+------------------+\n",
      "only showing top 10 rows\n",
      "\n"
     ]
    },
    {
     "name": "stderr",
     "output_type": "stream",
     "text": [
      "                                                                                \r"
     ]
    }
   ],
   "source": [
    "avg_stats = df \\\n",
    "    .groupBy(\"album\") \\\n",
    "    .agg({\n",
    "        'danceability': 'avg',\n",
    "        'energy': 'avg',\n",
    "        'valence': 'avg'\n",
    "     }) \\\n",
    "    .withColumnRenamed(\"danceability\", \"avg_danceability\") \\\n",
    "    .withColumnRenamed(\"energy\", \"avg_energy\") \\\n",
    "    .withColumnRenamed(\"valence\", \"avg_valence\")\n",
    "show_df_info(avg_stats, 10)"
   ]
  },
  {
   "cell_type": "markdown",
   "metadata": {},
   "source": [
    "#### Top 10 Most Danceable Albums by Average Danceability:"
   ]
  },
  {
   "cell_type": "code",
   "execution_count": 27,
   "metadata": {},
   "outputs": [
    {
     "name": "stderr",
     "output_type": "stream",
     "text": [
      "                                                                                \r"
     ]
    },
    {
     "name": "stdout",
     "output_type": "stream",
     "text": [
      "Number of rows: 10\n"
     ]
    },
    {
     "name": "stderr",
     "output_type": "stream",
     "text": [
      "[Stage 80:==================================================>       (7 + 1) / 8]\r"
     ]
    },
    {
     "name": "stdout",
     "output_type": "stream",
     "text": [
      "+--------------------+------------+\n",
      "|               album|danceability|\n",
      "+--------------------+------------+\n",
      "| Techno Is Not Fault|       0.992|\n",
      "|Blurred Lines Parody|       0.984|\n",
      "|             Patapon|       0.984|\n",
      "|          Full Power|        0.98|\n",
      "|  Dancing in My Room|        0.98|\n",
      "|            Stick Up|       0.977|\n",
      "|        Look At That|       0.977|\n",
      "|         Uno (Remix)|       0.975|\n",
      "|              Acterz|       0.974|\n",
      "|         Booska'Sten|       0.972|\n",
      "+--------------------+------------+\n",
      "\n"
     ]
    },
    {
     "name": "stderr",
     "output_type": "stream",
     "text": [
      "                                                                                \r"
     ]
    }
   ],
   "source": [
    "result = avg_stats.groupBy(\"album\").agg(F.max(\"avg(danceability)\").alias(\"danceability\"))\n",
    "result = result.orderBy(F.desc(\"danceability\")).limit(10)\n",
    "show_df_info(result, 10)"
   ]
  },
  {
   "cell_type": "markdown",
   "metadata": {},
   "source": [
    "#### Top 10 Most Energetic Albums by Average Energy:"
   ]
  },
  {
   "cell_type": "code",
   "execution_count": 28,
   "metadata": {},
   "outputs": [
    {
     "name": "stderr",
     "output_type": "stream",
     "text": [
      "                                                                                \r"
     ]
    },
    {
     "name": "stdout",
     "output_type": "stream",
     "text": [
      "Number of rows: 10\n"
     ]
    },
    {
     "name": "stderr",
     "output_type": "stream",
     "text": [
      "[Stage 87:==================================================>       (7 + 1) / 8]\r"
     ]
    },
    {
     "name": "stdout",
     "output_type": "stream",
     "text": [
      "+--------------------+------------------+\n",
      "|               album|            energy|\n",
      "+--------------------+------------------+\n",
      "|Wind Chime Waterfall|               1.0|\n",
      "|          Bitter Boy|0.9993333333333334|\n",
      "|    Final Stop Death|             0.999|\n",
      "|    Black Moldy Brew|             0.999|\n",
      "|      Babbling Brook|             0.999|\n",
      "|      Härd Sweetcöre|             0.999|\n",
      "|Booty of Mass Des...|             0.999|\n",
      "|       Astral Sounds|             0.999|\n",
      "|          Spark Plug|             0.999|\n",
      "|          Hammergeil|             0.999|\n",
      "+--------------------+------------------+\n",
      "\n"
     ]
    },
    {
     "name": "stderr",
     "output_type": "stream",
     "text": [
      "                                                                                \r"
     ]
    }
   ],
   "source": [
    "result = avg_stats.groupBy(\"album\").agg(F.max(\"avg(energy)\").alias(\"energy\"))\n",
    "result = result.orderBy(F.desc(\"energy\")).limit(10)\n",
    "show_df_info(result, 10)"
   ]
  },
  {
   "cell_type": "markdown",
   "metadata": {},
   "source": [
    "#### Average tempo and duration of tracks for each artist.:"
   ]
  },
  {
   "cell_type": "code",
   "execution_count": 125,
   "metadata": {},
   "outputs": [],
   "source": [
    "jsoned_df = df.withColumn(\"artists_list\",F.from_json(\"artists\", \"ARRAY<STRING>\"))"
   ]
  },
  {
   "cell_type": "code",
   "execution_count": 126,
   "metadata": {
    "scrolled": true
   },
   "outputs": [
    {
     "name": "stderr",
     "output_type": "stream",
     "text": [
      "                                                                                \r"
     ]
    },
    {
     "name": "stdout",
     "output_type": "stream",
     "text": [
      "Number of rows: 137413\n"
     ]
    },
    {
     "name": "stderr",
     "output_type": "stream",
     "text": [
      "[Stage 372:=================================================>       (7 + 1) / 8]\r"
     ]
    },
    {
     "name": "stdout",
     "output_type": "stream",
     "text": [
      "+--------------------+------------------+------------------+\n",
      "|              artist|      avg_duration|         avg_tempo|\n",
      "+--------------------+------------------+------------------+\n",
      "|               Rufio| 182662.7659574468| 126.8248723404255|\n",
      "|        Seafieldroad|        219468.125|111.44862499999999|\n",
      "|              *NSYNC|       236990.4125|115.05203749999995|\n",
      "|       Iain Burnside|167983.80392156861|108.82860784313722|\n",
      "|Ann Marie Yasinitsky|          684600.0|            85.676|\n",
      "|       Andrew Tuttle|         310387.75|106.07674999999999|\n",
      "|     Katherine Bryan|402506.87096774194| 91.73506451612904|\n",
      "|     Johannes Brahms|344452.70396270393|100.34420279720275|\n",
      "|              Prolix|       273683.9375|169.14249999999996|\n",
      "|        Tony Smalios|          256520.0|          93.45075|\n",
      "|        Ziggy Marley|         239033.25|         107.43575|\n",
      "|           Xperience|205874.72222222222| 96.38172222222221|\n",
      "|               Jok3r|          149786.0|           117.021|\n",
      "|Anne, Anniina & A...|          113267.0|            87.494|\n",
      "|        Huun-Huur-Tu|219517.70833333334|114.73823611111109|\n",
      "|     Ladislav Slovák| 549995.4255319149|115.47165957446808|\n",
      "|   Enrico Pieranunzi| 376598.6046511628| 105.9033023255814|\n",
      "|       Dennis Fisher|         397214.05|         103.70135|\n",
      "|              Grimes|240926.46666666667|128.61265333333333|\n",
      "|      Melanie Brulée|          225872.0|           110.555|\n",
      "+--------------------+------------------+------------------+\n",
      "only showing top 20 rows\n",
      "\n"
     ]
    },
    {
     "name": "stderr",
     "output_type": "stream",
     "text": [
      "                                                                                \r"
     ]
    }
   ],
   "source": [
    "df_exp = jsoned_df.withColumn(\"artist\", F.explode(\"artists_list\"))\n",
    "avg_stats = df_exp \\\n",
    ".groupBy('artist') \\\n",
    ".agg({'tempo': 'mean', 'duration_ms': 'mean'}) \\\n",
    ".withColumnRenamed('avg(tempo)', 'avg_tempo') \\\n",
    ".withColumnRenamed('avg(duration_ms)', 'avg_duration')\n",
    "\n",
    "show_df_info(avg_stats, 20)"
   ]
  },
  {
   "cell_type": "markdown",
   "metadata": {},
   "source": [
    "#### Artist with the most explicit tracks:"
   ]
  },
  {
   "cell_type": "code",
   "execution_count": 127,
   "metadata": {},
   "outputs": [
    {
     "name": "stderr",
     "output_type": "stream",
     "text": [
      "[Stage 375:=================================================>       (7 + 1) / 8]\r"
     ]
    },
    {
     "name": "stdout",
     "output_type": "stream",
     "text": [
      "+---------------+-------------------+\n",
      "|         artist|num_explicit_tracks|\n",
      "+---------------+-------------------+\n",
      "|Grant Macdonald|                561|\n",
      "+---------------+-------------------+\n",
      "\n"
     ]
    },
    {
     "name": "stderr",
     "output_type": "stream",
     "text": [
      "                                                                                \r"
     ]
    }
   ],
   "source": [
    "counted_explicit_tracks = df_exp.filter(df_exp[\"explicit\"] == True).groupBy('artist').count().withColumnRenamed('count', 'num_explicit_tracks')\n",
    "top_artist = counted_explicit_tracks.orderBy(F.desc(\"num_explicit_tracks\"), F.asc(\"artist\")).limit(1)\n",
    "top_artist.show()"
   ]
  },
  {
   "cell_type": "markdown",
   "metadata": {},
   "source": [
    "#### Artist with the most diverse set of albums"
   ]
  },
  {
   "cell_type": "code",
   "execution_count": 128,
   "metadata": {},
   "outputs": [
    {
     "name": "stderr",
     "output_type": "stream",
     "text": [
      "[Stage 378:=================================================>       (7 + 1) / 8]\r"
     ]
    },
    {
     "name": "stdout",
     "output_type": "stream",
     "text": [
      "The artist with the most diverse set of albums is Johann Sebastian Bach\n"
     ]
    },
    {
     "name": "stderr",
     "output_type": "stream",
     "text": [
      "                                                                                \r"
     ]
    }
   ],
   "source": [
    "result = df_exp \\\n",
    "    .groupBy(\"artist\") \\\n",
    "    .agg(F.countDistinct(\"album_id\").alias(\"num_distinct_albums\"))\n",
    "\n",
    "# Find the artist with the maximum number of distinct albums\n",
    "max_diverse_artist = result \\\n",
    "    .orderBy(F.desc(\"num_distinct_albums\")) \\\n",
    "    .limit(1) \\\n",
    "    .select(\"artist\") \\\n",
    "    .collect()[0][0]\n",
    "\n",
    "print(f\"The artist with the most diverse set of albums is {max_diverse_artist}\")"
   ]
  },
  {
   "cell_type": "code",
   "execution_count": 34,
   "metadata": {},
   "outputs": [
    {
     "name": "stdout",
     "output_type": "stream",
     "text": [
      "Defaulting to user installation because normal site-packages is not writeable\n",
      "Collecting pyspark_dist_explore\n",
      "  Downloading pyspark_dist_explore-0.1.8-py3-none-any.whl (7.2 kB)\n",
      "Collecting pandas\n",
      "  Downloading pandas-2.2.2-cp310-cp310-manylinux_2_17_x86_64.manylinux2014_x86_64.whl (13.0 MB)\n",
      "\u001b[2K     \u001b[38;2;114;156;31m━━━━━━━━━━━━━━━━━━━━━━━━━━━━━━━━━━━━━━━━\u001b[0m \u001b[32m13.0/13.0 MB\u001b[0m \u001b[31m2.5 MB/s\u001b[0m eta \u001b[36m0:00:00\u001b[0mm eta \u001b[36m0:00:01\u001b[0m[36m0:00:01\u001b[0m\n",
      "\u001b[?25hCollecting scipy\n",
      "  Downloading scipy-1.13.0-cp310-cp310-manylinux_2_17_x86_64.manylinux2014_x86_64.whl (38.6 MB)\n",
      "\u001b[2K     \u001b[38;2;114;156;31m━━━━━━━━━━━━━━━━━━━━━━━━━━━━━━━━━━━━━━━━\u001b[0m \u001b[32m38.6/38.6 MB\u001b[0m \u001b[31m2.9 MB/s\u001b[0m eta \u001b[36m0:00:00\u001b[0mm eta \u001b[36m0:00:01\u001b[0m[36m0:00:01\u001b[0m\n",
      "\u001b[?25hRequirement already satisfied: matplotlib in /home/marzieh/.local/lib/python3.10/site-packages (from pyspark_dist_explore) (3.8.4)\n",
      "Requirement already satisfied: numpy in /home/marzieh/.local/lib/python3.10/site-packages (from pyspark_dist_explore) (1.26.4)\n",
      "Requirement already satisfied: kiwisolver>=1.3.1 in /home/marzieh/.local/lib/python3.10/site-packages (from matplotlib->pyspark_dist_explore) (1.4.5)\n",
      "Requirement already satisfied: pyparsing>=2.3.1 in /usr/lib/python3/dist-packages (from matplotlib->pyspark_dist_explore) (2.4.7)\n",
      "Requirement already satisfied: cycler>=0.10 in /home/marzieh/.local/lib/python3.10/site-packages (from matplotlib->pyspark_dist_explore) (0.12.1)\n",
      "Requirement already satisfied: packaging>=20.0 in /home/marzieh/.local/lib/python3.10/site-packages (from matplotlib->pyspark_dist_explore) (24.0)\n",
      "Requirement already satisfied: python-dateutil>=2.7 in /home/marzieh/.local/lib/python3.10/site-packages (from matplotlib->pyspark_dist_explore) (2.9.0.post0)\n",
      "Requirement already satisfied: contourpy>=1.0.1 in /home/marzieh/.local/lib/python3.10/site-packages (from matplotlib->pyspark_dist_explore) (1.2.1)\n",
      "Requirement already satisfied: pillow>=8 in /usr/lib/python3/dist-packages (from matplotlib->pyspark_dist_explore) (9.0.1)\n",
      "Requirement already satisfied: fonttools>=4.22.0 in /home/marzieh/.local/lib/python3.10/site-packages (from matplotlib->pyspark_dist_explore) (4.51.0)\n",
      "Collecting tzdata>=2022.7\n",
      "  Downloading tzdata-2024.1-py2.py3-none-any.whl (345 kB)\n",
      "\u001b[2K     \u001b[38;2;114;156;31m━━━━━━━━━━━━━━━━━━━━━━━━━━━━━━━━━━━━━━━\u001b[0m \u001b[32m345.4/345.4 KB\u001b[0m \u001b[31m2.3 MB/s\u001b[0m eta \u001b[36m0:00:00\u001b[0m[31m2.4 MB/s\u001b[0m eta \u001b[36m0:00:01\u001b[0m\n",
      "\u001b[?25hRequirement already satisfied: pytz>=2020.1 in /usr/lib/python3/dist-packages (from pandas->pyspark_dist_explore) (2022.1)\n",
      "Requirement already satisfied: six>=1.5 in /usr/lib/python3/dist-packages (from python-dateutil>=2.7->matplotlib->pyspark_dist_explore) (1.16.0)\n",
      "Installing collected packages: tzdata, scipy, pandas, pyspark_dist_explore\n",
      "Successfully installed pandas-2.2.2 pyspark_dist_explore-0.1.8 scipy-1.13.0 tzdata-2024.1\n",
      "Note: you may need to restart the kernel to use updated packages.\n"
     ]
    }
   ],
   "source": [
    "pip install pyspark_dist_explore"
   ]
  },
  {
   "cell_type": "markdown",
   "metadata": {},
   "source": [
    "#### Distribution of tracks over the years"
   ]
  },
  {
   "cell_type": "code",
   "execution_count": 47,
   "metadata": {},
   "outputs": [
    {
     "name": "stderr",
     "output_type": "stream",
     "text": [
      "                                                                                \r"
     ]
    },
    {
     "data": {
      "image/png": "[encoded data removed]",
      "text/plain": [
       "<Figure size 640x480 with 1 Axes>"
      ]
     },
     "metadata": {},
     "output_type": "display_data"
    }
   ],
   "source": [
    "from pyspark_dist_explore import hist\n",
    "import matplotlib.pyplot as plt\n",
    "df_recent_years = df.filter(df[\"year\"] > 1750)\n",
    "fig, ax = plt.subplots()\n",
    "plt.xlabel(\"year\")\n",
    "plt.ylabel(\"track count\")\n",
    "hist(ax, df_recent_years.select('year'), bins = 20, color=['lightblue'])\n",
    "plt.show()"
   ]
  },
  {
   "cell_type": "markdown",
   "metadata": {},
   "source": [
    "#### Distribution of tracks durations"
   ]
  },
  {
   "cell_type": "code",
   "execution_count": 51,
   "metadata": {},
   "outputs": [
    {
     "name": "stderr",
     "output_type": "stream",
     "text": [
      "                                                                                \r"
     ]
    },
    {
     "data": {
      "image/png": "[encoded data removed]",
      "text/plain": [
       "<Figure size 640x480 with 1 Axes>"
      ]
     },
     "metadata": {},
     "output_type": "display_data"
    }
   ],
   "source": [
    "df = df.withColumn('duration_m', F.col('duration_ms') / (1000*60))\n",
    "df_small_duration = df.filter(df[\"duration_m\"] < 30)\n",
    "fig, ax = plt.subplots()\n",
    "plt.xlabel(\"duration (minutes)\")\n",
    "plt.ylabel(\"track count\")\n",
    "hist(ax, df_small_duration.select('duration_m'), bins = 20, color=['lightblue'])\n",
    "plt.show()"
   ]
  },
  {
   "cell_type": "markdown",
   "metadata": {},
   "source": [
    "As you can see the majority of tracks are less than 6 minutes."
   ]
  },
  {
   "cell_type": "markdown",
   "metadata": {},
   "source": [
    "#### Correlation between loudness and energy"
   ]
  },
  {
   "cell_type": "code",
   "execution_count": 52,
   "metadata": {},
   "outputs": [
    {
     "name": "stderr",
     "output_type": "stream",
     "text": [
      "[Stage 168:=================================================>       (7 + 1) / 8]\r"
     ]
    },
    {
     "name": "stdout",
     "output_type": "stream",
     "text": [
      "Correlation between Loudness and Energy: 0.8179328879011405\n"
     ]
    },
    {
     "name": "stderr",
     "output_type": "stream",
     "text": [
      "                                                                                \r"
     ]
    }
   ],
   "source": [
    "correlation = df.stat.corr('loudness', 'energy')\n",
    "print(f\"Correlation between Loudness and Energy: {correlation}\")"
   ]
  },
  {
   "cell_type": "markdown",
   "metadata": {},
   "source": [
    "As you can see there is a quite high correlation between `loudness` and `energy`"
   ]
  },
  {
   "cell_type": "markdown",
   "metadata": {},
   "source": [
    "#### distribution of explicit tracks across different time periods."
   ]
  },
  {
   "cell_type": "code",
   "execution_count": 83,
   "metadata": {},
   "outputs": [
    {
     "name": "stderr",
     "output_type": "stream",
     "text": [
      "                                                                                \r"
     ]
    },
    {
     "name": "stdout",
     "output_type": "stream",
     "text": [
      "Number of rows: 101\n"
     ]
    },
    {
     "name": "stderr",
     "output_type": "stream",
     "text": [
      "[Stage 256:=================================================>       (7 + 1) / 8]\r"
     ]
    },
    {
     "name": "stdout",
     "output_type": "stream",
     "text": [
      "+----+-----------+--------------+-------------------+\n",
      "|year|total_count|explicit_count|         percentage|\n",
      "+----+-----------+--------------+-------------------+\n",
      "|   0|         10|             0|                0.0|\n",
      "|1900|         14|             0|                0.0|\n",
      "|1908|         19|             0|                0.0|\n",
      "|1909|         25|             0|                0.0|\n",
      "|1917|         52|             0|                0.0|\n",
      "|1920|         25|             0|                0.0|\n",
      "|1923|         50|             0|                0.0|\n",
      "|1924|         36|             0|                0.0|\n",
      "|1925|         49|             0|                0.0|\n",
      "|1926|        107|             0|                0.0|\n",
      "|1927|         48|             0|                0.0|\n",
      "|1928|        114|             0|                0.0|\n",
      "|1929|         32|             0|                0.0|\n",
      "|1930|         59|             0|                0.0|\n",
      "|1931|         35|             0|                0.0|\n",
      "|1932|         59|             0|                0.0|\n",
      "|1933|         63|             0|                0.0|\n",
      "|1935|         20|             0|                0.0|\n",
      "|1936|         83|             0|                0.0|\n",
      "|1937|         40|             0|                0.0|\n",
      "|1938|         68|             0|                0.0|\n",
      "|1939|         26|             0|                0.0|\n",
      "|1942|         48|             0|                0.0|\n",
      "|1943|         40|             0|                0.0|\n",
      "|1944|         45|             0|                0.0|\n",
      "|1945|        154|             0|                0.0|\n",
      "|1946|         29|             0|                0.0|\n",
      "|1947|         84|             0|                0.0|\n",
      "|1948|         50|             0|                0.0|\n",
      "|1949|        203|             0|                0.0|\n",
      "|1950|        161|             0|                0.0|\n",
      "|1951|        175|             0|                0.0|\n",
      "|1952|        100|             0|                0.0|\n",
      "|1953|        118|             0|                0.0|\n",
      "|1954|        203|             0|                0.0|\n",
      "|1955|        179|             0|                0.0|\n",
      "|1956|        508|             0|                0.0|\n",
      "|1957|        412|             0|                0.0|\n",
      "|1958|        473|             0|                0.0|\n",
      "|1959|        830|             0|                0.0|\n",
      "|1960|        727|             0|                0.0|\n",
      "|1961|        623|             0|                0.0|\n",
      "|1962|        842|             0|                0.0|\n",
      "|1963|        905|             0|                0.0|\n",
      "|1964|        729|            14| 1.9204389574759946|\n",
      "|1965|        933|             0|                0.0|\n",
      "|1966|        932|             0|                0.0|\n",
      "|1967|        916|             0|                0.0|\n",
      "|1968|        930|             0|                0.0|\n",
      "|1969|       1247|             0|                0.0|\n",
      "|1970|       1110|             0|                0.0|\n",
      "|1971|       1202|             0|                0.0|\n",
      "|1972|       1938|             0|                0.0|\n",
      "|1973|       1762|             0|                0.0|\n",
      "|1974|       1389|             2|0.14398848092152627|\n",
      "|1975|       1806|             0|                0.0|\n",
      "|1976|       1985|             1|0.05037783375314861|\n",
      "|1977|       1962|             1|0.05096839959225281|\n",
      "|1978|       1923|             4|0.20800832033281333|\n",
      "|1979|       2106|             0|                0.0|\n",
      "|1980|       2119|             1|0.04719207173194903|\n",
      "|1981|       1897|            17| 0.8961518186610438|\n",
      "|1982|       1754|             7| 0.3990877993158495|\n",
      "|1983|       1977|             2|0.10116337885685382|\n",
      "|1984|       2571|             4|0.15558148580318942|\n",
      "|1985|       2596|             6|0.23112480739599386|\n",
      "|1986|       2727|            68| 2.4935826916024935|\n",
      "|1987|       3314|            90|  2.715751357875679|\n",
      "|1988|       4545|            94| 2.0682068206820685|\n",
      "|1989|       5095|            45| 0.8832188420019628|\n",
      "|1990|       7453|           155|  2.079699449885952|\n",
      "|1991|       8380|            77| 0.9188544152744629|\n",
      "|1992|       9639|           294| 3.0501089324618738|\n",
      "|1993|      11017|           343|   3.11337024598348|\n",
      "|1994|      14130|           312|  2.208067940552017|\n",
      "|1995|      17417|           538|  3.088936096916805|\n",
      "|1996|      17840|           609|  3.413677130044843|\n",
      "|1997|      20229|           619| 3.0599634188541205|\n",
      "|1998|      21013|           831| 3.9546947127968397|\n",
      "|1999|      25930|           893|  3.443887389124566|\n",
      "|2000|      30575|          1129| 3.6925592804578904|\n",
      "|2001|      29378|          1112|  3.785145346858193|\n",
      "|2002|      30861|          1240|  4.018016266485208|\n",
      "|2003|      34996|          1133| 3.2375128586124133|\n",
      "|2004|      38696|          1385| 3.5791813107297914|\n",
      "|2005|      49977|          1782|  3.565640194489465|\n",
      "|2006|      56945|          2211|  3.882693827377294|\n",
      "|2007|      56287|          1678|  2.981150176772612|\n",
      "|2008|      50475|          1759| 3.4848935116394255|\n",
      "|2009|      45562|          1956| 4.2930512268996095|\n",
      "|2010|      44550|          2254|  5.059483726150392|\n",
      "|2011|      45642|          2531|  5.545331054730292|\n",
      "|2012|      45108|          2375|  5.265141438325796|\n",
      "|2013|      49048|          2933|  5.979856467134235|\n",
      "|2014|      45005|          2551| 5.6682590823241865|\n",
      "|2015|      46558|          2968|  6.374844280252588|\n",
      "|2016|      47427|          3194|  6.734560482425622|\n",
      "|2017|      51308|          4551|   8.86996179932954|\n",
      "|2018|      56167|          6138| 10.928125055637652|\n",
      "|2019|      67276|         11249|  16.72067304833819|\n",
      "+----+-----------+--------------+-------------------+\n",
      "only showing top 100 rows\n",
      "\n"
     ]
    },
    {
     "name": "stderr",
     "output_type": "stream",
     "text": [
      "                                                                                \r"
     ]
    }
   ],
   "source": [
    "explicit_counts = df.filter(df[\"explicit\"] == True).groupBy(\"year\").count().withColumnRenamed('count', 'exp_count')\n",
    "non_explicit_counts = df.filter(df[\"explicit\"] == False).groupBy(\"year\").count().withColumnRenamed('count', 'non_exp_count')\n",
    "\n",
    "\n",
    "result = explicit_counts.join(non_explicit_counts, on=[\"year\"], how=\"outer\") \\\n",
    "    .selectExpr(\"year\", \"coalesce(exp_count, 0) + coalesce(non_exp_count, 0) as total_count\", \"coalesce(exp_count, 0) as explicit_count\") \\\n",
    "    .withColumn(\"percentage\", F.col(\"explicit_count\") / F.col(\"total_count\") * 100)\n",
    "\n",
    "show_df_info(result, 100)"
   ]
  },
  {
   "cell_type": "code",
   "execution_count": 80,
   "metadata": {},
   "outputs": [
    {
     "name": "stderr",
     "output_type": "stream",
     "text": [
      "                                                                                \r"
     ]
    },
    {
     "data": {
      "image/png": "[encoded data removed]",
      "text/plain": [
       "<Figure size 640x480 with 1 Axes>"
      ]
     },
     "metadata": {},
     "output_type": "display_data"
    }
   ],
   "source": [
    "explicit_counts = df.filter(df[\"explicit\"] == True)\n",
    "fig, ax = plt.subplots()\n",
    "plt.xlabel(\"year\")\n",
    "plt.ylabel(\"number of explicit songs\")\n",
    "hist(ax, explicit_counts.select('year'), bins = 20, color=['lightblue'])\n",
    "plt.show()"
   ]
  },
  {
   "cell_type": "markdown",
   "metadata": {},
   "source": [
    "#### Loudness Over Time"
   ]
  },
  {
   "cell_type": "code",
   "execution_count": 85,
   "metadata": {},
   "outputs": [
    {
     "name": "stderr",
     "output_type": "stream",
     "text": [
      "                                                                                \r"
     ]
    },
    {
     "name": "stdout",
     "output_type": "stream",
     "text": [
      "Number of rows: 101\n"
     ]
    },
    {
     "name": "stderr",
     "output_type": "stream",
     "text": [
      "[Stage 275:=================================================>       (7 + 1) / 8]\r"
     ]
    },
    {
     "name": "stdout",
     "output_type": "stream",
     "text": [
      "+----+-------------------+\n",
      "|year|      avg(loudness)|\n",
      "+----+-------------------+\n",
      "|   0|           -14.8162|\n",
      "|1900|-18.077785714285717|\n",
      "|1908|-15.401263157894741|\n",
      "|1909|-12.401080000000002|\n",
      "|1917|-16.892826923076928|\n",
      "|1920|          -12.68692|\n",
      "|1923|-13.599960000000005|\n",
      "|1924|-11.583305555555553|\n",
      "|1925|-15.291244897959185|\n",
      "|1926|-14.683813084112153|\n",
      "|1927|-13.589187500000001|\n",
      "|1928| -12.34871052631579|\n",
      "|1929|       -11.25565625|\n",
      "|1930|-11.086830508474577|\n",
      "|1931|-13.341199999999999|\n",
      "|1932|-13.422423728813563|\n",
      "|1933|-12.582269841269843|\n",
      "|1935|          -10.74955|\n",
      "|1936| -13.20774698795181|\n",
      "|1937|-13.216875000000002|\n",
      "+----+-------------------+\n",
      "only showing top 20 rows\n",
      "\n"
     ]
    },
    {
     "name": "stderr",
     "output_type": "stream",
     "text": [
      "                                                                                \r"
     ]
    }
   ],
   "source": [
    "average_loudness_df = df.groupBy(\"year\") \\\n",
    "                        .agg({'loudness': 'mean'}) \\\n",
    "                        .orderBy('year')\n",
    "\n",
    "show_df_info(average_loudness_df, 20)"
   ]
  },
  {
   "cell_type": "markdown",
   "metadata": {},
   "source": [
    "# <center>Questions</center>"
   ]
  },
  {
   "cell_type": "markdown",
   "metadata": {},
   "source": [
    "### 1. how Spark and Hadoop work. What does the term ‘lazy evaluation’ mean for them? Explain with a simple example."
   ]
  },
  {
   "cell_type": "markdown",
   "metadata": {},
   "source": [
    "#### Hadoop and Spark Comparison\n",
    "\n",
    "##### Hadoop\n",
    "- Utilizes HDFS for distributed storage and MapReduce for distributed processing.\n",
    "- Well-suited for batch processing of large datasets but can be less efficient for iterative or interactive workloads.\n",
    "\n",
    "##### Spark\n",
    "- Employs in-memory computing and offers various APIs including RDDs, Spark SQL, Spark Streaming, MLlib, and GraphX.\n",
    "- Faster and more versatile than Hadoop, suitable for a wide range of use cases including batch processing, real-time processing, iterative algorithms, and interactive data analysis.\n",
    "\n",
    "#### Lazy Evaluation in Spark and Hadoop\n",
    "\n",
    "In the context of Spark and Hadoop, lazy evaluation means that transformations on data are not immediately executed. Instead, they are stored as a series of transformations to be performed later, when an action is called. This allows for optimization of the computation process.\n",
    "\n",
    "For example, in Spark, if you have a dataset and you apply multiple transformations like filtering, mapping, and aggregating, Spark won't execute these transformations immediately. It will wait until an action like collect() or show() is called. This deferred execution helps Spark optimize the computation by combining multiple transformations and executing them in an efficient manner."
   ]
  },
  {
   "cell_type": "markdown",
   "metadata": {},
   "source": [
    "### 2. Your main task’s dataset has about 1,200,000 rows, which makes it quite hard, and even sometimes impossible, to work with. Explain how parquet files try to solve this problem, compared to normal file formats like csv."
   ]
  },
  {
   "cell_type": "markdown",
   "metadata": {},
   "source": [
    "#### Advantages of Parquet Files\n",
    "\n",
    "##### Columnar Storage\n",
    "- Parquet files store data in a columnar format, storing each column separately.\n",
    "- Enables efficient compression and encoding techniques on a per-column basis, reducing storage space compared to row-based formats like CSV.\n",
    "\n",
    "##### Predicate Pushdown\n",
    "- Parquet files support predicate pushdown, reading only necessary columns and rows based on query predicates.\n",
    "- Reduces I/O overhead and improves query performance, especially for selective queries.\n",
    "\n",
    "##### Schema Evolution\n",
    "- Parquet files include metadata describing the data schema, allowing for schema evolution without compatibility issues.\n",
    "- New columns can be added or existing columns modified without rewriting the entire dataset.\n",
    "\n",
    "##### Compression\n",
    "- Parquet files support various compression algorithms such as Snappy, GZIP, and LZ4.\n",
    "- Compression techniques reduce storage footprint and improve read/write performance.\n",
    "\n",
    "##### Partitioning\n",
    "- Parquet files can be partitioned based on one or more columns.\n",
    "- Improves query performance by enabling partition pruning, scanning only relevant partitions during query execution.\n",
    "\n",
    "Overall, Parquet files offer significant advantages over traditional file formats like CSV when working with large datasets, making them a preferred choice for big data processing frameworks."
   ]
  },
  {
   "cell_type": "markdown",
   "metadata": {},
   "source": [
    "### 3. Sparkdoesn’tsavecheckpoints.How can we enforce it to do so?"
   ]
  },
  {
   "cell_type": "markdown",
   "metadata": {},
   "source": [
    "#### Enable Checkpointing\n",
    "\n",
    "Before using checkpointing in Spark, you need to enable it by setting the checkpoint directory using the SparkContext.setCheckpointDir() method. Ensure that this directory is accessible by all nodes in the Spark cluster."
   ]
  },
  {
   "cell_type": "code",
   "execution_count": null,
   "metadata": {},
   "outputs": [],
   "source": [
    "sc.setCheckpointDir(\"hdfs://path/to/checkpoint/dir\")"
   ]
  },
  {
   "cell_type": "markdown",
   "metadata": {},
   "source": [
    "#### Perform Checkpointing\n",
    "\n",
    "Once checkpointing is enabled in Spark, you can enforce it on an RDD or DataFrame by calling the checkpoint() method. This action triggers the execution of the computation graph up to that point and saves the intermediate results to the checkpoint directory."
   ]
  },
  {
   "cell_type": "code",
   "execution_count": null,
   "metadata": {},
   "outputs": [],
   "source": [
    "rdd.checkpoint()\n",
    "df.checkpoint()"
   ]
  },
  {
   "cell_type": "markdown",
   "metadata": {},
   "source": [
    "### 4. Top companies stream their data on a regular routine, e.g. daily. How can we save data, so that we could filter it based on specific columns, e.g. date, faster than regular filtering?"
   ]
  },
  {
   "cell_type": "markdown",
   "metadata": {},
   "source": [
    "#### Partitioning by Date\n",
    "\n",
    "If you're streaming data on a daily basis, you can partition the data by date. Each day's data can be saved in a separate directory or file, with the directory or file name representing the date. This allows for fast filtering based on the date column, as Spark or any other processing framework can directly access the relevant partition containing the data for the desired date.\n",
    "\n",
    "#### File Formats\n",
    "\n",
    "Choose a file format that supports partitioning efficiently, such as Parquet. Parquet files can be partitioned based on one or more columns, enabling efficient pruning of irrelevant partitions during query execution.\n",
    "\n",
    "#### Optimized Storage\n",
    "\n",
    "Ensure that the data is stored in a distributed file system like HDFS or an object store like Amazon S3. This ensures that the data is distributed across multiple nodes, allowing for parallel processing and faster retrieval.\n",
    "\n",
    "#### Optimize for Query Patterns\n",
    "\n",
    "Analyze the typical query patterns and partition the data accordingly. For example, if filtering by date is the most common operation, partitioning by date would be beneficial. Similarly, if filtering by another column is more common, consider partitioning by that column instead."
   ]
  },
  {
   "cell_type": "markdown",
   "metadata": {},
   "source": [
    "### 5.  Let's face off Pandas and PySpark in the data analysis arena! When does each library truly shine, and why?"
   ]
  },
  {
   "cell_type": "markdown",
   "metadata": {},
   "source": [
    "#### Pandas vs. PySpark: A Comparative Analysis\n",
    "\n",
    "##### Data Size\n",
    "\n",
    "- Pandas: Best suited for working with small to medium-sized datasets that can fit into memory. It performs well when the dataset fits comfortably on a single machine.\n",
    "- PySpark: Designed for handling large-scale datasets that exceed the memory capacity of a single machine. PySpark distributes the data across a cluster of machines, allowing for processing of massive datasets that cannot be handled by Pandas alone.\n",
    "\n",
    "##### Processing Complexity\n",
    "\n",
    "- Pandas: Ideal for complex data manipulation and analysis tasks due to its rich set of functions and expressive syntax. It offers a wide range of operations for data cleaning, transformation, and analysis, making it suitable for intricate data processing workflows.\n",
    "- PySpark: Well-suited for processing complex data transformations and analytics at scale. PySpark leverages distributed computing to handle complex operations on large datasets efficiently. It excels in scenarios where processing complexity is high and parallel processing is necessary for timely analysis.\n",
    "\n",
    "##### User Experience\n",
    "\n",
    "- Pandas: Offers a user-friendly and intuitive interface, making it easy for data analysts and scientists to perform exploratory data analysis and build models. Pandas' syntax is concise and familiar to Python users, which contributes to its popularity and ease of use.\n",
    "- PySpark: Requires a deeper understanding of distributed computing concepts and Spark's API. While PySpark provides similar functionality to Pandas, transitioning from Pandas to PySpark may require some learning curve, especially for users unfamiliar with distributed computing paradigms. However, once users are comfortable with Spark's API, they can leverage its scalability and performance benefits."
   ]
  }
 ],
 "metadata": {
  "kernelspec": {
   "display_name": "Python 3 (ipykernel)",
   "language": "python",
   "name": "python3"
  },
  "language_info": {
   "codemirror_mode": {
    "name": "ipython",
    "version": 3
   },
   "file_extension": ".py",
   "mimetype": "text/x-python",
   "name": "python",
   "nbconvert_exporter": "python",
   "pygments_lexer": "ipython3",
   "version": "3.10.12"
  }
 },
 "nbformat": 4,
 "nbformat_minor": 4
}
