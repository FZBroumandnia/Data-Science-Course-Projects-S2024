{
 "cells": [
  {
   "cell_type": "code",
   "execution_count": null,
   "metadata": {},
   "outputs": [
    {
     "ename": "",
     "evalue": "",
     "output_type": "error",
     "traceback": [
      "\u001b[1;31mFailed to start the Kernel. \n",
      "\u001b[1;31mUnable to start Kernel 'base (Python 3.11.7)' due to a timeout waiting for the ports to get used. \n",
      "\u001b[1;31mView Jupyter <a href='command:jupyter.viewOutput'>log</a> for further details."
     ]
    }
   ],
   "source": [
    "import pandas as pd\n",
    "from sklearn.preprocessing import StandardScaler, MinMaxScaler, OneHotEncoder\n",
    "from sklearn.impute import SimpleImputer\n",
    "\n",
    "# Load dataset\n",
    "data = pd.read_csv('your_dataset.csv')\n",
    "\n",
    "# Handle missing values\n",
    "imputer_num = SimpleImputer(strategy='mean')\n",
    "imputer_cat = SimpleImputer(strategy='most_frequent')\n",
    "\n",
    "numerical_cols = data.select_dtypes(include=['float64', 'int64']).columns\n",
    "categorical_cols = data.select_dtypes(include=['object']).columns\n",
    "\n",
    "data[numerical_cols] = imputer_num.fit_transform(data[numerical_cols])\n",
    "data[categorical_cols] = imputer_cat.fit_transform(data[categorical_cols])\n",
    "\n",
    "# Normalize numerical data\n",
    "scaler = StandardScaler()\n",
    "data[numerical_cols] = scaler.fit_transform(data[numerical_cols])\n",
    "\n",
    "# Encode categorical data\n",
    "encoder = OneHotEncoder(sparse=False)\n",
    "encoded_cats = pd.DataFrame(encoder.fit_transform(data[categorical_cols]), \n",
    "                            columns=encoder.get_feature_names_out(categorical_cols))\n",
    "data = data.drop(categorical_cols, axis=1)\n",
    "data = pd.concat([data, encoded_cats], axis=1)\n",
    "\n",
    "# Save preprocessed data\n",
    "data.to_csv('preprocessed_data.csv', index=False)\n"
   ]
  },
  {
   "cell_type": "code",
   "execution_count": null,
   "metadata": {},
   "outputs": [],
   "source": [
    "# Temporarily remove ID columns\n",
    "data_for_clustering = data.drop(['id_encounter'], axis=1)\n",
    "\n",
    "# Perform clustering\n",
    "# (Example: K-means)\n",
    "# (Example: DBSCAN)\n",
    "\n",
    "# Reattach ID columns to clustering results\n",
    "clustering_results['id_encounter'] = data['id_encounter']\n",
    "\n",
    "# Save results to CSV\n",
    "clustering_results[['id_encounter', 'kmean_label', 'dbscan_label']].to_csv('clustering_results.csv', index=False)\n"
   ]
  }
 ],
 "metadata": {
  "kernelspec": {
   "display_name": "base",
   "language": "python",
   "name": "python3"
  },
  "language_info": {
   "name": "python",
   "version": "3.11.7"
  }
 },
 "nbformat": 4,
 "nbformat_minor": 2
}
